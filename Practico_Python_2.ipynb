{
  "nbformat": 4,
  "nbformat_minor": 0,
  "metadata": {
    "colab": {
      "provenance": [],
      "authorship_tag": "ABX9TyNHijF8R3+56FC5phx/nxea",
      "include_colab_link": true
    },
    "kernelspec": {
      "name": "python3",
      "display_name": "Python 3"
    },
    "language_info": {
      "name": "python"
    }
  },
  "cells": [
    {
      "cell_type": "markdown",
      "metadata": {
        "id": "view-in-github",
        "colab_type": "text"
      },
      "source": [
        "<a href=\"https://colab.research.google.com/github/DaniGa-Mo/Practico_Python_2/blob/main/Practico_Python_2.ipynb\" target=\"_parent\"><img src=\"https://colab.research.google.com/assets/colab-badge.svg\" alt=\"Open In Colab\"/></a>"
      ]
    },
    {
      "cell_type": "markdown",
      "source": [
        "# Comprendiendo lazos\n",
        "\n",
        "Ana está desarrollando un programa que necesita procesar una lista de 5 nombres de clientes para generar informes mensuales. Para ello, necesita escribir un programa que recorra la lista de nombres y muestre cada cliente.\n",
        "\n",
        "clientes = [\"Juan\", \"Maria\", \"Carlos\", \"Ana\", \"Beatriz\"]\n",
        "\n",
        "Ayuda a Ana a decidir entre usar un lazo for o while. Escribe el programa usando el lazo que creas más adecuado para esta tarea y explica por qué elegiste ese lazo."
      ],
      "metadata": {
        "id": "xIUQhBib_LtH"
      }
    },
    {
      "cell_type": "code",
      "source": [
        "# Lista clientes.\n",
        "clientes = [\"Juan\", \"Maria\", \"Carlos\", \"Ana\", \"Beatriz\"]\n",
        "\n",
        "# Recorrer la lista.\n",
        "# Se utiliza el ciclo for en este caso porque es una lista con un número visible de clientes.\n",
        "for cliente in clientes:\n",
        "  print('Cliente llamado:', cliente)"
      ],
      "metadata": {
        "colab": {
          "base_uri": "https://localhost:8080/"
        },
        "id": "tWf9a_5y_fk3",
        "outputId": "bd1d3ce1-371f-4f82-e5c3-32b4664fc82a"
      },
      "execution_count": 2,
      "outputs": [
        {
          "output_type": "stream",
          "name": "stdout",
          "text": [
            "Cliente llamado: Juan\n",
            "Cliente llamado: Maria\n",
            "Cliente llamado: Carlos\n",
            "Cliente llamado: Ana\n",
            "Cliente llamado: Beatriz\n"
          ]
        }
      ]
    }
  ]
}